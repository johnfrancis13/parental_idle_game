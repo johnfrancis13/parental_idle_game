{
 "cells": [
  {
   "cell_type": "code",
   "execution_count": 1,
   "metadata": {},
   "outputs": [],
   "source": [
    "import random\n",
    "import character_classes\n",
    "import importlib\n",
    "from character_classes import parental_unit, baby"
   ]
  },
  {
   "cell_type": "code",
   "execution_count": 18,
   "metadata": {},
   "outputs": [],
   "source": [
    "importlib.reload(character_classes)\n",
    "from character_classes import parental_unit, baby"
   ]
  },
  {
   "cell_type": "code",
   "execution_count": 19,
   "metadata": {},
   "outputs": [
    {
     "name": "stdout",
     "output_type": "stream",
     "text": [
      "My name is John. I have 1 child.\n",
      "My current attributes are: {'Intelligence': 1, 'Creativity': 1, 'Socialization': 1, 'Empathy': 1, 'Fitness': 1, 'Willpower': 1, 'Endurance': 1, 'Perception': 1, 'Knowledge': 1, 'Prosperity': 1}.\n",
      "To help me raise my offspring I currently have a spouse.\n",
      "The skills I have developed are: .\n",
      "My current profession is: Stay at home parent.\n"
     ]
    },
    {
     "data": {
      "text/plain": [
       "\"Carlos is currently a Newborn that weighs 9.25 pounds and is 22.2 inches tall.\\n        Carlos's current attributes are: {'Motor Skills': 0, 'Social Skills': 0, 'Emotional Skills': 0, 'Commuication Skills': 0, 'Cognitive Skills': 0, 'Physical Development': 0}\\n        Carlos's current needs are: {'Hunger': 70, 'Hygiene': 30, 'Energy': 20, 'Happiness': 50, 'Health': 40, 'Love for Parent': 80, 'Fear of Parent': 10, 'Current Physical State': 'healthy', 'Current Mental State': 'content'}\\n        Carlos's current natural inclinations are: ['Sickly', 'Active']\\n        Carlos's current skills are: .\""
      ]
     },
     "execution_count": 19,
     "metadata": {},
     "output_type": "execute_result"
    }
   ],
   "source": [
    "jf_test=parental_unit(\"John\")\n",
    "jf_test.examine_self()\n",
    "carlito=baby(\"Carlos\",\"boy\")\n",
    "carlito.examine_child()"
   ]
  },
  {
   "cell_type": "code",
   "execution_count": 22,
   "metadata": {},
   "outputs": [],
   "source": [
    "carlito.update_turn(carlito.age)"
   ]
  },
  {
   "cell_type": "code",
   "execution_count": 20,
   "metadata": {},
   "outputs": [
    {
     "data": {
      "text/plain": [
       "'Newborn'"
      ]
     },
     "execution_count": 20,
     "metadata": {},
     "output_type": "execute_result"
    }
   ],
   "source": [
    "carlito.age"
   ]
  },
  {
   "cell_type": "code",
   "execution_count": 23,
   "metadata": {},
   "outputs": [
    {
     "data": {
      "text/plain": [
       "{'Hunger': 60,\n",
       " 'Hygiene': 20,\n",
       " 'Energy': 10,\n",
       " 'Happiness': 50,\n",
       " 'Health': 40,\n",
       " 'Love for Parent': 80,\n",
       " 'Fear of Parent': 10,\n",
       " 'Current Physical State': 'healthy',\n",
       " 'Current Mental State': 'content'}"
      ]
     },
     "execution_count": 23,
     "metadata": {},
     "output_type": "execute_result"
    }
   ],
   "source": [
    "carlito.needs"
   ]
  },
  {
   "cell_type": "code",
   "execution_count": 6,
   "metadata": {},
   "outputs": [],
   "source": [
    "# game play loop\n",
    "\n",
    "# chunks per hour * hours in a day * days in a month * months in age\n",
    "turns_per_age = {\"Newborn\":2*24*30*3,\n",
    "                     \"Infant\":2*24*30*9,\n",
    "                     \"Toddler\":2*24*30*24,\n",
    "                     \"Preschooler\":2*24*30*24,\n",
    "                     \"Adolescent\":1*24*30*60,\n",
    "                     \"Pre-teen\":1*24*30*24,\n",
    "                     \"Teen\":1*24*30*60}\n",
    "\n",
    "turn_options_dict = {\"Newborn\":[\"Sleep\",\"Feed\",\"Play\",\"Teach\",\"Maintenance Care\",\"Give Space\",\"Spend Personal Time\"],\n",
    "                     \"Infant\":[\"Sleep\",\"Feed\",\"Play\",\"Teach\",\"Maintenance Care\",\"Give Space\",\"Spend Personal Time\"],\n",
    "                     \"Toddler\":[\"Sleep\",\"Feed\",\"Play\",\"Teach\",\"Maintenance Care\",\"Give Space\",\"Spend Personal Time\"],\n",
    "                     \"Preschooler\":[\"Sleep\",\"Feed\",\"Play\",\"Teach\",\"Maintenance Care\",\"Give Space\",\"Spend Personal Time\"],\n",
    "                     \"Adolescent\":[\"Sleep\",\"Feed\",\"Play\",\"Teach\",\"Maintenance Care\",\"Give Space\",\"Spend Personal Time\"],\n",
    "                     \"Pre-teen\":[\"Sleep\",\"Feed\",\"Play\",\"Teach\",\"Maintenance Care\",\"Give Space\",\"Spend Personal Time\"],\n",
    "                     \"Teen\":[\"Sleep\",\"Feed\",\"Play\",\"Teach\",\"Maintenance Care\",\"Give Space\",\"Spend Personal Time\"]} \n"
   ]
  },
  {
   "cell_type": "code",
   "execution_count": 7,
   "metadata": {},
   "outputs": [],
   "source": [
    "action_dict = {\"Sleep\":{\"Needs\":{\"Energy\":2},\n",
    "                        \"Attributes\":None,\n",
    "                        \"Size\":{\"Height\":.1}},\n",
    "               \"Feed\":{\"Needs\":{\"Hunger\":2},\n",
    "                        \"Attributes\":None,\n",
    "                        \"Size\":{\"Weight\":.02}},\n",
    "               \"Play\":{\"Needs\":{\"Energy\":2,\n",
    "                                \"Hygiene\":-2},\n",
    "                        \"Attributes\":None,\n",
    "                        \"Size\":{\"Weight\":-.01}},\n",
    "               \"Teach\":{\"Needs\":{\"Energy\":2},\n",
    "                        \"Attributes\":None,\n",
    "                        \"Size\":None},\n",
    "               \"Maintenance Care\":{\"Needs\":{\"Hygiene\":2,\n",
    "                                            \"Energy\":-1},\n",
    "                        \"Attributes\":None,\n",
    "                        \"Size\":None},\n",
    "               \"Give Space\":{\"Needs\":{\"Energy\":2},\n",
    "                        \"Attributes\":None,\n",
    "                        \"Size\":None},\n",
    "               \"Spend Personal Time\":{\"Needs\":{\"Energy\":2},\n",
    "                        \"Attributes\":None,\n",
    "                        \"Size\":None},\n",
    "               }"
   ]
  },
  {
   "cell_type": "code",
   "execution_count": null,
   "metadata": {},
   "outputs": [],
   "source": [
    "# I basically want a function, that takes an action, and updates the attributes...\n"
   ]
  },
  {
   "cell_type": "code",
   "execution_count": 19,
   "metadata": {},
   "outputs": [
    {
     "data": {
      "text/plain": [
       "{'Hunger': 70,\n",
       " 'Hygiene': 30,\n",
       " 'Energy': 20,\n",
       " 'Happiness': 50,\n",
       " 'Health': 40,\n",
       " 'Love for Parent': 80,\n",
       " 'Fear of Parent': 10,\n",
       " 'Current Physical State': 'healthy',\n",
       " 'Current Mental State': 'content'}"
      ]
     },
     "execution_count": 19,
     "metadata": {},
     "output_type": "execute_result"
    }
   ],
   "source": [
    "sleep = action_dict[\"Sleep\"]\n",
    "#carlito.needs[\"Hunger\"] = carlito.needs[\"Hunger\"] + \n",
    "carlito.needs"
   ]
  },
  {
   "cell_type": "code",
   "execution_count": 20,
   "metadata": {},
   "outputs": [],
   "source": [
    "if sleep[\"Needs\"] is not None:\n",
    "       for k1 in carlito.needs:\n",
    "              if k1 in sleep[\"Needs\"]:\n",
    "                   carlito.needs[k1] = sleep[\"Needs\"][k1] + carlito.needs[k1]"
   ]
  },
  {
   "cell_type": "code",
   "execution_count": 21,
   "metadata": {},
   "outputs": [
    {
     "data": {
      "text/plain": [
       "{'Hunger': 70,\n",
       " 'Hygiene': 30,\n",
       " 'Energy': 22,\n",
       " 'Happiness': 50,\n",
       " 'Health': 40,\n",
       " 'Love for Parent': 80,\n",
       " 'Fear of Parent': 10,\n",
       " 'Current Physical State': 'healthy',\n",
       " 'Current Mental State': 'content'}"
      ]
     },
     "execution_count": 21,
     "metadata": {},
     "output_type": "execute_result"
    }
   ],
   "source": [
    "carlito.needs"
   ]
  },
  {
   "cell_type": "code",
   "execution_count": null,
   "metadata": {},
   "outputs": [],
   "source": [
    "{\"Hunger\":70, # need food to stay happy/healthy\n",
    "                      \"Hygiene\":30, # cleanliness to stay happy/healthy\n",
    "                      \"Energy\":20, # energy to do activities before collapsing\n",
    "                      \"Happiness\":50, # higher happiness affects performance on tasks\n",
    "                      \"Health\":40, # poor health prevents some activities\n",
    "                      \"Love for Parent\":80, # affects how amenable child is to activities\n",
    "                      \"Fear of Parent\":10, #  affects how amenable child is to activities\n",
    "                      \"Current Physical State\":\"healthy\",\n",
    "                      \"Current Mental State\":\"content\"}"
   ]
  },
  {
   "cell_type": "code",
   "execution_count": 5,
   "metadata": {},
   "outputs": [
    {
     "data": {
      "text/plain": [
       "'girl'"
      ]
     },
     "execution_count": 5,
     "metadata": {},
     "output_type": "execute_result"
    }
   ],
   "source": [
    "random.choice([\"boy\",\"girl\"]) "
   ]
  }
 ],
 "metadata": {
  "kernelspec": {
   "display_name": "envGAME",
   "language": "python",
   "name": "python3"
  },
  "language_info": {
   "codemirror_mode": {
    "name": "ipython",
    "version": 3
   },
   "file_extension": ".py",
   "mimetype": "text/x-python",
   "name": "python",
   "nbconvert_exporter": "python",
   "pygments_lexer": "ipython3",
   "version": "3.12.2"
  }
 },
 "nbformat": 4,
 "nbformat_minor": 2
}
